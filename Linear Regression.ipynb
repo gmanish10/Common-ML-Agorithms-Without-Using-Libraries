{
 "cells": [
  {
   "cell_type": "code",
   "execution_count": null,
   "metadata": {},
   "outputs": [],
   "source": [
    "108,392.5\n",
    "19,46.2\n",
    "13,15.7\n",
    "124,422.2\n",
    "40,119.4"
   ]
  },
  {
   "cell_type": "code",
   "execution_count": 1,
   "metadata": {},
   "outputs": [],
   "source": [
    "%matplotlib inline\n",
    "\n",
    "import numpy as np\n",
    "import pandas as pd\n",
    "import matplotlib.pyplot as plt"
   ]
  },
  {
   "cell_type": "code",
   "execution_count": 157,
   "metadata": {},
   "outputs": [],
   "source": [
    "x = np.array([108, 19, 13, 124, 40])\n",
    "y = np.array([392.5, 46.2, 15.7, 422.2, 119.4])"
   ]
  },
  {
   "cell_type": "code",
   "execution_count": 158,
   "metadata": {},
   "outputs": [
    {
     "data": {
      "text/plain": [
       "<matplotlib.collections.PathCollection at 0x110f25400>"
      ]
     },
     "execution_count": 158,
     "metadata": {},
     "output_type": "execute_result"
    },
    {
     "data": {
      "image/png": "[encoded data removed]",
      "text/plain": [
       "<Figure size 432x288 with 1 Axes>"
      ]
     },
     "metadata": {
      "needs_background": "light"
     },
     "output_type": "display_data"
    }
   ],
   "source": [
    "plt.scatter(x, y)"
   ]
  },
  {
   "cell_type": "markdown",
   "metadata": {},
   "source": [
    "y = a + b(x)\n",
    "\n",
    "e = (y_actual - a - b(x))^2\n",
    "\n",
    "e = y_actual^2 +a^2 + (bx)^2 - 2(y_actual*a) - 2(y_actual*b*x) + 2abx"
   ]
  },
  {
   "cell_type": "code",
   "execution_count": 159,
   "metadata": {},
   "outputs": [],
   "source": [
    "t = 10000000\n",
    "t1 = 10000000\n",
    "a = 0\n",
    "b = 0\n",
    "alpha = 0.0000001\n",
    "RSS_new = 0\n",
    "RSS_old = 0\n",
    "a_old = 0\n",
    "b_old = 0"
   ]
  },
  {
   "cell_type": "code",
   "execution_count": 160,
   "metadata": {},
   "outputs": [],
   "source": [
    "\n",
    "while (t>0):\n",
    "    \n",
    "    \n",
    "    \n",
    "    RSS_old = RSS_new\n",
    "    RSS_new = 0\n",
    "    for i in range(len(x)):\n",
    "        RSS_new += (1/(2*len(x)))*((y[i] - a - (b*x[i]))**2)\n",
    "    \n",
    "    if t!=t1:\n",
    "        if RSS_new > RSS_old:\n",
    "            break    \n",
    "        \n",
    "#     print('a = ' + str(a) + ', b = ' + str(b) + ', RSS = ' + str(RSS_new))\n",
    "    \n",
    "    a_old = a\n",
    "    b_old = b\n",
    "    \n",
    "    #d(RSS)/d(a) = 2a - 2y + 2bx\n",
    "    \n",
    "    a_new = a - (alpha*((2*a) - (2*y[i]) + (2*b*x[i]))*(1/(2*len(x))))\n",
    "    \n",
    "    #d(RSS)/d(b) = 2b(x^2) - 2xy + 2ax\n",
    "    \n",
    "    b_new = b - (alpha*((2*b*(x[i]^2)) - (2*x[i]*y[i]) + (2*a*x[i]))*(1/(2*len(x))))\n",
    "    \n",
    "    \n",
    "    a = a_new\n",
    "    b = b_new\n",
    "    \n",
    "    t = t -1    "
   ]
  },
  {
   "cell_type": "code",
   "execution_count": 161,
   "metadata": {},
   "outputs": [
    {
     "name": "stdout",
     "output_type": "stream",
     "text": [
      "a = 0.03670485728850292, b = 3.4483610616764513, RSS = 200.12821998103271\n"
     ]
    }
   ],
   "source": [
    "print('a = ' + str(a_old) + ', b = ' + str(b_old) + ', RSS = ' + str(RSS_old))"
   ]
  },
  {
   "cell_type": "code",
   "execution_count": 162,
   "metadata": {},
   "outputs": [
    {
     "data": {
      "text/plain": [
       "<matplotlib.collections.PathCollection at 0x110fa9518>"
      ]
     },
     "execution_count": 162,
     "metadata": {},
     "output_type": "execute_result"
    },
    {
     "data": {
      "image/png": "[encoded data removed]",
      "text/plain": [
       "<Figure size 432x288 with 1 Axes>"
      ]
     },
     "metadata": {
      "needs_background": "light"
     },
     "output_type": "display_data"
    }
   ],
   "source": [
    "plt.plot(x, (a_old + (b_old*x)))\n",
    "plt.scatter(x, y)\n"
   ]
  },
  {
   "cell_type": "code",
   "execution_count": null,
   "metadata": {},
   "outputs": [],
   "source": []
  },
  {
   "cell_type": "markdown",
   "metadata": {},
   "source": [
    "\n",
    "\n",
    "\n",
    "\n",
    "USING MATRIX MULTIPLICATION"
   ]
  },
  {
   "cell_type": "code",
   "execution_count": 155,
   "metadata": {},
   "outputs": [],
   "source": [
    "x1 = np.array([[1, 1, 1, 1, 1],\n",
    "             [108, 19, 13, 124, 40]])\n",
    "y1 = np.array([392.5, 46.2, 15.7, 422.2, 119.4])"
   ]
  },
  {
   "cell_type": "code",
   "execution_count": 156,
   "metadata": {},
   "outputs": [
    {
     "data": {
      "text/plain": [
       "array([-28.62021934,   3.74704308])"
      ]
     },
     "execution_count": 156,
     "metadata": {},
     "output_type": "execute_result"
    }
   ],
   "source": [
    "\n",
    "x2 = np.linalg.inv((x1).dot(x1.T))\n",
    "\n",
    "y2 = x1.dot(y1.T)\n",
    "\n",
    "w = x2.dot(y2)\n",
    "\n",
    "w"
   ]
  },
  {
   "cell_type": "code",
   "execution_count": null,
   "metadata": {},
   "outputs": [],
   "source": []
  }
 ],
 "metadata": {
  "kernelspec": {
   "display_name": "Python 3",
   "language": "python",
   "name": "python3"
  },
  "language_info": {
   "codemirror_mode": {
    "name": "ipython",
    "version": 3
   },
   "file_extension": ".py",
   "mimetype": "text/x-python",
   "name": "python",
   "nbconvert_exporter": "python",
   "pygments_lexer": "ipython3",
   "version": "3.6.8"
  }
 },
 "nbformat": 4,
 "nbformat_minor": 2
}
