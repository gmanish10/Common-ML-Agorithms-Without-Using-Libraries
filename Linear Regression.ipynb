{
 "cells": [
  {
   "cell_type": "code",
   "execution_count": 1,
   "metadata": {},
   "outputs": [
    {
     "data": {
      "text/plain": [
       "(40, 119.4)"
      ]
     },
     "execution_count": 1,
     "metadata": {},
     "output_type": "execute_result"
    }
   ],
   "source": [
    "108,392.5\n",
    "19,46.2\n",
    "13,15.7\n",
    "124,422.2\n",
    "40,119.4"
   ]
  },
  {
   "cell_type": "code",
   "execution_count": 2,
   "metadata": {},
   "outputs": [],
   "source": [
    "%matplotlib inline\n",
    "\n",
    "import numpy as np\n",
    "import pandas as pd\n",
    "import matplotlib.pyplot as plt"
   ]
  },
  {
   "cell_type": "code",
   "execution_count": 3,
   "metadata": {},
   "outputs": [],
   "source": [
    "x = np.array([108, 19, 13, 124, 40])\n",
    "y = np.array([392.5, 46.2, 15.7, 422.2, 119.4])"
   ]
  },
  {
   "cell_type": "code",
   "execution_count": 4,
   "metadata": {},
   "outputs": [
    {
     "data": {
      "text/plain": [
       "<matplotlib.collections.PathCollection at 0x11dfb118438>"
      ]
     },
     "execution_count": 4,
     "metadata": {},
     "output_type": "execute_result"
    },
    {
     "data": {
      "image/png": "[encoded data removed]",
      "text/plain": [
       "<Figure size 432x288 with 1 Axes>"
      ]
     },
     "metadata": {
      "needs_background": "light"
     },
     "output_type": "display_data"
    }
   ],
   "source": [
    "plt.scatter(x, y)"
   ]
  },
  {
   "cell_type": "markdown",
   "metadata": {},
   "source": [
    "y = a + b(x)\n",
    "\n",
    "e = (y_actual - a - b(x))^2\n",
    "\n",
    "e = y_actual^2 +a^2 + (bx)^2 - 2(y_actual*a) - 2(y_actual*b*x) + 2abx"
   ]
  },
  {
   "cell_type": "code",
   "execution_count": 5,
   "metadata": {},
   "outputs": [],
   "source": [
    "t = 10000000\n",
    "a = 0\n",
    "b = 0\n",
    "alpha = 0.0001\n",
    "RSS_Old = float('inf')"
   ]
  },
  {
   "cell_type": "code",
   "execution_count": 6,
   "metadata": {},
   "outputs": [
    {
     "name": "stdout",
     "output_type": "stream",
     "text": [
      "a = -28.620059093283682, b = 3.7470414110832793, RSS = 496.9615614124659\n"
     ]
    }
   ],
   "source": [
    "for _ in range(t):\n",
    "    y_hat = a+b*x\n",
    "    a = a - alpha * np.mean(y_hat - y)\n",
    "    b = b - alpha * np.mean((y_hat - y)*x)\n",
    "    \n",
    "    RSS_New = np.sum((y_hat - y)**2)\n",
    "    \n",
    "    if RSS_Old <= RSS_New:\n",
    "        break\n",
    "    \n",
    "    RSS_Old = RSS_New\n",
    "\n",
    "print('a = ' + str(a) + ', b = ' + str(b) + ', RSS = ' + str(np.sum((y_hat - y)**2)))"
   ]
  },
  {
   "cell_type": "code",
   "execution_count": 7,
   "metadata": {},
   "outputs": [
    {
     "data": {
      "text/plain": [
       "<matplotlib.collections.PathCollection at 0x11dfb0e2390>"
      ]
     },
     "execution_count": 7,
     "metadata": {},
     "output_type": "execute_result"
    },
    {
     "data": {
      "image/png": "[encoded data removed]",
      "text/plain": [
       "<Figure size 432x288 with 1 Axes>"
      ]
     },
     "metadata": {
      "needs_background": "light"
     },
     "output_type": "display_data"
    }
   ],
   "source": [
    "plt.plot(x, (a + (b*x)))\n",
    "plt.scatter(x, y)"
   ]
  },
  {
   "cell_type": "markdown",
   "metadata": {},
   "source": [
    "\n",
    "\n",
    "\n",
    "\n",
    "**USING MATRIX MULTIPLICATION**"
   ]
  },
  {
   "cell_type": "code",
   "execution_count": 8,
   "metadata": {},
   "outputs": [],
   "source": [
    "x1 = np.array([[1, 1, 1, 1, 1],\n",
    "             [108, 19, 13, 124, 40]])\n",
    "y1 = np.array([392.5, 46.2, 15.7, 422.2, 119.4])"
   ]
  },
  {
   "cell_type": "code",
   "execution_count": 9,
   "metadata": {},
   "outputs": [
    {
     "data": {
      "text/plain": [
       "array([-28.62021934,   3.74704308])"
      ]
     },
     "execution_count": 9,
     "metadata": {},
     "output_type": "execute_result"
    }
   ],
   "source": [
    "\n",
    "x2 = np.linalg.inv((x1).dot(x1.T))\n",
    "\n",
    "y2 = x1.dot(y1.T)\n",
    "\n",
    "w = x2.dot(y2)\n",
    "\n",
    "w"
   ]
  },
  {
   "cell_type": "code",
   "execution_count": 10,
   "metadata": {},
   "outputs": [],
   "source": [
    "a,b = w[0],w[1]"
   ]
  },
  {
   "cell_type": "code",
   "execution_count": 11,
   "metadata": {},
   "outputs": [
    {
     "name": "stdout",
     "output_type": "stream",
     "text": [
      "a = -28.620219336003288, b = 3.747043081184265, RSS = 496.96156136542345\n"
     ]
    }
   ],
   "source": [
    "print('a = ' + str(a) + ', b = ' + str(b) + ', RSS = ' + str(np.sum((a + b*x - y)**2)))"
   ]
  },
  {
   "cell_type": "code",
   "execution_count": null,
   "metadata": {},
   "outputs": [],
   "source": []
  }
 ],
 "metadata": {
  "kernelspec": {
   "display_name": "Python 3",
   "language": "python",
   "name": "python3"
  },
  "language_info": {
   "codemirror_mode": {
    "name": "ipython",
    "version": 3
   },
   "file_extension": ".py",
   "mimetype": "text/x-python",
   "name": "python",
   "nbconvert_exporter": "python",
   "pygments_lexer": "ipython3",
   "version": "3.7.1"
  }
 },
 "nbformat": 4,
 "nbformat_minor": 2
}
