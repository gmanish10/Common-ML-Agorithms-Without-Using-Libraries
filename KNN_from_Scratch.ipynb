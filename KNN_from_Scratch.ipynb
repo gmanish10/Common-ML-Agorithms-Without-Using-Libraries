{
  "nbformat": 4,
  "nbformat_minor": 0,
  "metadata": {
    "colab": {
      "name": "KNN from Scratch",
      "version": "0.3.2",
      "provenance": []
    },
    "kernelspec": {
      "name": "python3",
      "display_name": "Python 3"
    }
  },
  "cells": [
    {
      "cell_type": "code",
      "metadata": {
        "id": "_sSxzWgaQItB",
        "colab_type": "code",
        "colab": {}
      },
      "source": [
        "%matplotlib inline\n",
        "import numpy as np\n",
        "import pandas as pd\n",
        "import matplotlib.pyplot as plt\n",
        "import operator\n",
        "from sklearn import datasets\n",
        "from sklearn.model_selection import train_test_split\n",
        "from sklearn.metrics import confusion_matrix, accuracy_score"
      ],
      "execution_count": 0,
      "outputs": []
    },
    {
      "cell_type": "code",
      "metadata": {
        "id": "H0BcJ0Upfydr",
        "colab_type": "code",
        "colab": {}
      },
      "source": [
        "iris = datasets.load_iris()\n",
        "\n",
        "X = iris.data\n",
        "Y = iris.target\n",
        "X_train, X_test, Y_train, Y_test = train_test_split(X, Y, test_size = .4)"
      ],
      "execution_count": 0,
      "outputs": []
    },
    {
      "cell_type": "code",
      "metadata": {
        "id": "Q4gyIfICQgWu",
        "colab_type": "code",
        "colab": {
          "base_uri": "https://localhost:8080/",
          "height": 34
        },
        "outputId": "3d4dbb76-3184-49c4-d8ca-00475b94e298"
      },
      "source": [
        "len(X_train), len(X_test)"
      ],
      "execution_count": 3,
      "outputs": [
        {
          "output_type": "execute_result",
          "data": {
            "text/plain": [
              "(90, 60)"
            ]
          },
          "metadata": {
            "tags": []
          },
          "execution_count": 3
        }
      ]
    },
    {
      "cell_type": "code",
      "metadata": {
        "id": "pSvqxpM3QwKY",
        "colab_type": "code",
        "colab": {}
      },
      "source": [
        "def get_distance(a, b):\n",
        "  \n",
        "  dist_square = 0\n",
        "  \n",
        "  for i in range(len(a)):\n",
        "    dist_square += (a[i]-b[i])**2\n",
        "    \n",
        "  return np.sqrt(dist_square)\n",
        "    "
      ],
      "execution_count": 0,
      "outputs": []
    },
    {
      "cell_type": "code",
      "metadata": {
        "id": "c2wPolR-Rn2U",
        "colab_type": "code",
        "colab": {}
      },
      "source": [
        "def KNN(train, test_instance, k):\n",
        "  \n",
        "  distances = {}\n",
        "  sort = {}\n",
        "  \n",
        "  for i in range(len(train)):\n",
        "    \n",
        "    dist = get_distance(train[i], test_instance)\n",
        "    distances[i] = dist\n",
        "    \n",
        "  \n",
        "  sorted_dist = sorted(distances.items(), key=operator.itemgetter(1))  \n",
        "  \n",
        "  neighbors = []\n",
        "  \n",
        "  for i in range(k):\n",
        "    neighbors.append(sorted_dist[i][0])\n",
        "    \n",
        "  classVotes = {}\n",
        "  \n",
        "  \n",
        "  for i in range(len(neighbors)):\n",
        "        response = Y_train[neighbors[i]]\n",
        " \n",
        "        if response in classVotes:\n",
        "            classVotes[response] += 1\n",
        "        else:\n",
        "            classVotes[response] = 1  \n",
        "            \n",
        "  sortedVotes = sorted(classVotes.items(), key=operator.itemgetter(1), reverse=True)\n",
        "  \n",
        "  return sortedVotes[0][0]\n",
        "  "
      ],
      "execution_count": 0,
      "outputs": []
    },
    {
      "cell_type": "markdown",
      "metadata": {
        "id": "q4Y75oGfb4Qb",
        "colab_type": "text"
      },
      "source": [
        "**Using Fixed Value of K**"
      ]
    },
    {
      "cell_type": "code",
      "metadata": {
        "id": "KniElte5WYv2",
        "colab_type": "code",
        "colab": {
          "base_uri": "https://localhost:8080/",
          "height": 34
        },
        "outputId": "73bdf24d-85af-430c-a502-5c986ff2d680"
      },
      "source": [
        "y_pred = []\n",
        "\n",
        "k = 3\n",
        "\n",
        "for i in range(len(X_test)):\n",
        "  y_pred.append(KNN(X_train, X_test[i], k))\n",
        "  \n",
        "print((accuracy_score(y_pred, Y_test))*100)"
      ],
      "execution_count": 6,
      "outputs": [
        {
          "output_type": "stream",
          "text": [
            "95.0\n"
          ],
          "name": "stdout"
        }
      ]
    },
    {
      "cell_type": "markdown",
      "metadata": {
        "id": "n-RJTbQjbrXr",
        "colab_type": "text"
      },
      "source": [
        "**Finding Optimal Value of K**"
      ]
    },
    {
      "cell_type": "code",
      "metadata": {
        "id": "6b9ePUy_aA3M",
        "colab_type": "code",
        "colab": {
          "base_uri": "https://localhost:8080/",
          "height": 269
        },
        "outputId": "d7f11aa1-8f8c-40d0-c90c-b184457307fd"
      },
      "source": [
        "#Iterating k from 1 to 10\n",
        "\n",
        "results = {}\n",
        "\n",
        "for k in range(1, 11):\n",
        "  \n",
        "  y_pred = []\n",
        "  for i in range(len(X_test)):\n",
        "    \n",
        "    y_pred.append(KNN(X_train, X_test[i], k))\n",
        "    \n",
        "  results[k] = (1 - accuracy_score(y_pred, Y_test))*100\n",
        "\n",
        "#Plotting Error\n",
        "\n",
        "plt.plot(results.keys(), results.values())\n",
        "\n",
        "plt.show()"
      ],
      "execution_count": 7,
      "outputs": [
        {
          "output_type": "display_data",
          "data": {
            "image/png": "[encoded data removed]",
            "text/plain": [
              "<Figure size 432x288 with 1 Axes>"
            ]
          },
          "metadata": {
            "tags": []
          }
        }
      ]
    },
    {
      "cell_type": "code",
      "metadata": {
        "id": "HapPowr3f2yQ",
        "colab_type": "code",
        "colab": {}
      },
      "source": [
        ""
      ],
      "execution_count": 0,
      "outputs": []
    }
  ]
}