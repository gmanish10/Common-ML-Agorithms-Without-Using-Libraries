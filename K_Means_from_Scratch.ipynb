{
  "nbformat": 4,
  "nbformat_minor": 0,
  "metadata": {
    "colab": {
      "name": "K-Means from Scratch",
      "version": "0.3.2",
      "provenance": []
    },
    "kernelspec": {
      "name": "python3",
      "display_name": "Python 3"
    }
  },
  "cells": [
    {
      "cell_type": "code",
      "metadata": {
        "id": "zmNoNnvqhRlG",
        "colab_type": "code",
        "colab": {}
      },
      "source": [
        "%matplotlib inline\n",
        "import numpy as np\n",
        "import pandas as pd\n",
        "import matplotlib.pyplot as plt\n",
        "import matplotlib.cm as cm\n",
        "import operator\n",
        "from sklearn import datasets"
      ],
      "execution_count": 0,
      "outputs": []
    },
    {
      "cell_type": "code",
      "metadata": {
        "id": "HVuCDDrFhcTU",
        "colab_type": "code",
        "colab": {}
      },
      "source": [
        "iris = datasets.load_iris()\n",
        "\n",
        "X = iris.data\n",
        "\n",
        "df = X[:,[1,2]]"
      ],
      "execution_count": 0,
      "outputs": []
    },
    {
      "cell_type": "code",
      "metadata": {
        "id": "yyeRiSpjhg0J",
        "colab_type": "code",
        "colab": {
          "base_uri": "https://localhost:8080/",
          "height": 269
        },
        "outputId": "30e12d04-12e7-42ad-c416-e350e1d43186"
      },
      "source": [
        "plt.scatter(df[:,0], df[:,1])\n",
        "plt.show()"
      ],
      "execution_count": 3,
      "outputs": [
        {
          "output_type": "display_data",
          "data": {
            "image/png": "[encoded data removed]",
            "text/plain": [
              "<Figure size 432x288 with 1 Axes>"
            ]
          },
          "metadata": {
            "tags": []
          }
        }
      ]
    },
    {
      "cell_type": "code",
      "metadata": {
        "id": "bB3v75oijNfF",
        "colab_type": "code",
        "colab": {
          "base_uri": "https://localhost:8080/",
          "height": 34
        },
        "outputId": "5a24aaa6-b845-455f-9624-3bd358fad917"
      },
      "source": [
        "df.shape"
      ],
      "execution_count": 4,
      "outputs": [
        {
          "output_type": "execute_result",
          "data": {
            "text/plain": [
              "(150, 2)"
            ]
          },
          "metadata": {
            "tags": []
          },
          "execution_count": 4
        }
      ]
    },
    {
      "cell_type": "code",
      "metadata": {
        "id": "9IDsQo6yiYc9",
        "colab_type": "code",
        "colab": {}
      },
      "source": [
        "k = 4\n",
        "\n",
        "m = df.shape[0]\n",
        "\n",
        "centroids = [] \n",
        "\n",
        "for i in range(k):\n",
        "    rand = np.random.randint(0,df.shape[0]-1)\n",
        "    centroids.append(df[rand])\n",
        "\n",
        "centroids = np.array(centroids)"
      ],
      "execution_count": 0,
      "outputs": []
    },
    {
      "cell_type": "code",
      "metadata": {
        "id": "ycEIzs6tjlBv",
        "colab_type": "code",
        "colab": {
          "base_uri": "https://localhost:8080/",
          "height": 85
        },
        "outputId": "42b4ec53-c96d-413e-c2ae-3b6c4951237e"
      },
      "source": [
        "centroids"
      ],
      "execution_count": 6,
      "outputs": [
        {
          "output_type": "execute_result",
          "data": {
            "text/plain": [
              "array([[3.7, 1.5],\n",
              "       [2.4, 3.8],\n",
              "       [3.1, 5.4],\n",
              "       [2.8, 4.6]])"
            ]
          },
          "metadata": {
            "tags": []
          },
          "execution_count": 6
        }
      ]
    },
    {
      "cell_type": "code",
      "metadata": {
        "id": "svk111DNjste",
        "colab_type": "code",
        "colab": {}
      },
      "source": [
        "clusters = []\n",
        "\n",
        "for i in range(len(df)):\n",
        "  clusters.append(np.random.randint(0, k-1))"
      ],
      "execution_count": 0,
      "outputs": []
    },
    {
      "cell_type": "code",
      "metadata": {
        "id": "5dLVb7qhp5mU",
        "colab_type": "code",
        "colab": {}
      },
      "source": [
        "def kmeans(df1, centroids1, clusters1, k1):\n",
        "  for i in range(len(df1)):\n",
        "    centroid_dist = {}\n",
        "  \n",
        "    for j in range(k):\n",
        "      centroid_dist[j] = np.linalg.norm(df1[i] - centroids1[j])\n",
        "    \n",
        "    sorted_dist = sorted(centroid_dist.items(), key = operator.itemgetter(1))\n",
        "  \n",
        "    clusters1[i] = sorted_dist[0][0]\n",
        "\n",
        "  \n",
        "  for i in range(k1):\n",
        "    count = 0\n",
        "    group = []\n",
        "    for j in range(len(df1)):\n",
        "      if clusters1[j] == i:\n",
        "        group.append(df1[i])\n",
        "    group = np.array(group)\n",
        "    centroids1[i] = np.mean(group, axis = 0)\n",
        "    \n",
        "    return centroids1, clusters1  "
      ],
      "execution_count": 0,
      "outputs": []
    },
    {
      "cell_type": "code",
      "metadata": {
        "id": "chwIB2v6L1iC",
        "colab_type": "code",
        "colab": {}
      },
      "source": [
        "n_iter = 10000\n",
        "\n",
        "for _ in range(n_iter):\n",
        "  centroids, clusters = kmeans(df, centroids, clusters, k)"
      ],
      "execution_count": 0,
      "outputs": []
    },
    {
      "cell_type": "code",
      "metadata": {
        "id": "jqKXpbC_PAOC",
        "colab_type": "code",
        "colab": {
          "base_uri": "https://localhost:8080/",
          "height": 286
        },
        "outputId": "91b99ff4-1bc1-4e29-b3d6-65a4e09e9e4a"
      },
      "source": [
        "import matplotlib.cm as cm\n",
        "\n",
        "colors = cm.rainbow(np.linspace(0, 1, k))\n",
        "\n",
        "plt.scatter(df[:,0], df[:,1], c = colors[clusters])\n"
      ],
      "execution_count": 10,
      "outputs": [
        {
          "output_type": "execute_result",
          "data": {
            "text/plain": [
              "<matplotlib.collections.PathCollection at 0x7fca10dccf98>"
            ]
          },
          "metadata": {
            "tags": []
          },
          "execution_count": 10
        },
        {
          "output_type": "display_data",
          "data": {
            "image/png": "[encoded data removed]",
            "text/plain": [
              "<Figure size 432x288 with 1 Axes>"
            ]
          },
          "metadata": {
            "tags": []
          }
        }
      ]
    },
    {
      "cell_type": "code",
      "metadata": {
        "id": "w-qHhphFQr3L",
        "colab_type": "code",
        "colab": {}
      },
      "source": [
        ""
      ],
      "execution_count": 0,
      "outputs": []
    }
  ]
}